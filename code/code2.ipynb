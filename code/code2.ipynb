{
 "cells": [
  {
   "cell_type": "code",
   "execution_count": 1,
   "id": "10f4ea45-7cbd-43a0-83c9-7767ea81ebad",
   "metadata": {},
   "outputs": [
    {
     "name": "stderr",
     "output_type": "stream",
     "text": [
      "── \u001b[1mAttaching packages\u001b[22m ─────────────────────────────────────── tidyverse 1.3.2 ──\n",
      "\u001b[32m✔\u001b[39m \u001b[34mggplot2\u001b[39m 3.3.6      \u001b[32m✔\u001b[39m \u001b[34mpurrr  \u001b[39m 0.3.4 \n",
      "\u001b[32m✔\u001b[39m \u001b[34mtibble \u001b[39m 3.1.8      \u001b[32m✔\u001b[39m \u001b[34mdplyr  \u001b[39m 1.0.10\n",
      "\u001b[32m✔\u001b[39m \u001b[34mtidyr  \u001b[39m 1.2.1      \u001b[32m✔\u001b[39m \u001b[34mstringr\u001b[39m 1.4.1 \n",
      "\u001b[32m✔\u001b[39m \u001b[34mreadr  \u001b[39m 2.1.2      \u001b[32m✔\u001b[39m \u001b[34mforcats\u001b[39m 0.5.2 \n",
      "── \u001b[1mConflicts\u001b[22m ────────────────────────────────────────── tidyverse_conflicts() ──\n",
      "\u001b[31m✖\u001b[39m \u001b[34mdplyr\u001b[39m::\u001b[32mfilter()\u001b[39m masks \u001b[34mstats\u001b[39m::filter()\n",
      "\u001b[31m✖\u001b[39m \u001b[34mdplyr\u001b[39m::\u001b[32mlag()\u001b[39m    masks \u001b[34mstats\u001b[39m::lag()\n"
     ]
    }
   ],
   "source": [
    "# Section 0\n",
    "# prepare environment and data.\n",
    "\n",
    "# Part 0\n",
    "# Load library\n",
    "\n",
    "library(tidyverse)\n",
    "library(repr)\n",
    "library(infer)"
   ]
  },
  {
   "cell_type": "code",
   "execution_count": 2,
   "id": "7cd93f44-c24d-45c5-956e-0fdb4c40e52e",
   "metadata": {},
   "outputs": [],
   "source": [
    "# Section 0\n",
    "# Part 1\n",
    "# prepare environment.\n",
    "\n",
    "default_plot_width <- 7\n",
    "default_plot_height <- 7\n",
    "# default_plot_width <- 10\n",
    "# default_plot_height <- 10\n",
    "set.seed(1)\n",
    "\n",
    "options(jupyter.plot_mimetypes = c(\"text/plain\", \"image/png\" ))\n",
    "\n",
    "options(repr.matrix.max.rows = 6)\n",
    "options(repr.plot.width = default_plot_width, repr.plot.height = default_plot_height)"
   ]
  },
  {
   "cell_type": "code",
   "execution_count": 3,
   "id": "a895bf51-74cc-468e-8937-616d21dc6e4f",
   "metadata": {},
   "outputs": [],
   "source": [
    "# Section 0\n",
    "# Part 1 - continue\n",
    "# prepare environment - constant\n",
    "# SAMPLE_SIZE = 731 # MAX 731\n",
    "SAMPLE_SIZE = 73 # 731 * 0.1\n",
    "confidence_level = 0.95"
   ]
  },
  {
   "cell_type": "code",
   "execution_count": 4,
   "id": "9c3942e4-6999-4962-9f23-9f89dee0eee8",
   "metadata": {},
   "outputs": [
    {
     "data": {
      "text/html": [
       "<table class=\"dataframe\">\n",
       "<caption>A data.frame: 6 × 17</caption>\n",
       "<thead>\n",
       "\t<tr><th></th><th scope=col>instant</th><th scope=col>dteday</th><th scope=col>season</th><th scope=col>yr</th><th scope=col>mnth</th><th scope=col>hr</th><th scope=col>holiday</th><th scope=col>weekday</th><th scope=col>workingday</th><th scope=col>weathersit</th><th scope=col>temp</th><th scope=col>atemp</th><th scope=col>hum</th><th scope=col>windspeed</th><th scope=col>casual</th><th scope=col>registered</th><th scope=col>cnt</th></tr>\n",
       "\t<tr><th></th><th scope=col>&lt;int&gt;</th><th scope=col>&lt;chr&gt;</th><th scope=col>&lt;int&gt;</th><th scope=col>&lt;int&gt;</th><th scope=col>&lt;int&gt;</th><th scope=col>&lt;int&gt;</th><th scope=col>&lt;int&gt;</th><th scope=col>&lt;int&gt;</th><th scope=col>&lt;int&gt;</th><th scope=col>&lt;int&gt;</th><th scope=col>&lt;dbl&gt;</th><th scope=col>&lt;dbl&gt;</th><th scope=col>&lt;dbl&gt;</th><th scope=col>&lt;dbl&gt;</th><th scope=col>&lt;int&gt;</th><th scope=col>&lt;int&gt;</th><th scope=col>&lt;int&gt;</th></tr>\n",
       "</thead>\n",
       "<tbody>\n",
       "\t<tr><th scope=row>1</th><td>1</td><td>2011-01-01</td><td>1</td><td>0</td><td>1</td><td>0</td><td>0</td><td>6</td><td>0</td><td>1</td><td>0.24</td><td>0.2879</td><td>0.81</td><td>0.0000</td><td>3</td><td>13</td><td>16</td></tr>\n",
       "\t<tr><th scope=row>2</th><td>2</td><td>2011-01-01</td><td>1</td><td>0</td><td>1</td><td>1</td><td>0</td><td>6</td><td>0</td><td>1</td><td>0.22</td><td>0.2727</td><td>0.80</td><td>0.0000</td><td>8</td><td>32</td><td>40</td></tr>\n",
       "\t<tr><th scope=row>3</th><td>3</td><td>2011-01-01</td><td>1</td><td>0</td><td>1</td><td>2</td><td>0</td><td>6</td><td>0</td><td>1</td><td>0.22</td><td>0.2727</td><td>0.80</td><td>0.0000</td><td>5</td><td>27</td><td>32</td></tr>\n",
       "\t<tr><th scope=row>4</th><td>4</td><td>2011-01-01</td><td>1</td><td>0</td><td>1</td><td>3</td><td>0</td><td>6</td><td>0</td><td>1</td><td>0.24</td><td>0.2879</td><td>0.75</td><td>0.0000</td><td>3</td><td>10</td><td>13</td></tr>\n",
       "\t<tr><th scope=row>5</th><td>5</td><td>2011-01-01</td><td>1</td><td>0</td><td>1</td><td>4</td><td>0</td><td>6</td><td>0</td><td>1</td><td>0.24</td><td>0.2879</td><td>0.75</td><td>0.0000</td><td>0</td><td> 1</td><td> 1</td></tr>\n",
       "\t<tr><th scope=row>6</th><td>6</td><td>2011-01-01</td><td>1</td><td>0</td><td>1</td><td>5</td><td>0</td><td>6</td><td>0</td><td>2</td><td>0.24</td><td>0.2576</td><td>0.75</td><td>0.0896</td><td>0</td><td> 1</td><td> 1</td></tr>\n",
       "</tbody>\n",
       "</table>\n"
      ],
      "text/latex": [
       "A data.frame: 6 × 17\n",
       "\\begin{tabular}{r|lllllllllllllllll}\n",
       "  & instant & dteday & season & yr & mnth & hr & holiday & weekday & workingday & weathersit & temp & atemp & hum & windspeed & casual & registered & cnt\\\\\n",
       "  & <int> & <chr> & <int> & <int> & <int> & <int> & <int> & <int> & <int> & <int> & <dbl> & <dbl> & <dbl> & <dbl> & <int> & <int> & <int>\\\\\n",
       "\\hline\n",
       "\t1 & 1 & 2011-01-01 & 1 & 0 & 1 & 0 & 0 & 6 & 0 & 1 & 0.24 & 0.2879 & 0.81 & 0.0000 & 3 & 13 & 16\\\\\n",
       "\t2 & 2 & 2011-01-01 & 1 & 0 & 1 & 1 & 0 & 6 & 0 & 1 & 0.22 & 0.2727 & 0.80 & 0.0000 & 8 & 32 & 40\\\\\n",
       "\t3 & 3 & 2011-01-01 & 1 & 0 & 1 & 2 & 0 & 6 & 0 & 1 & 0.22 & 0.2727 & 0.80 & 0.0000 & 5 & 27 & 32\\\\\n",
       "\t4 & 4 & 2011-01-01 & 1 & 0 & 1 & 3 & 0 & 6 & 0 & 1 & 0.24 & 0.2879 & 0.75 & 0.0000 & 3 & 10 & 13\\\\\n",
       "\t5 & 5 & 2011-01-01 & 1 & 0 & 1 & 4 & 0 & 6 & 0 & 1 & 0.24 & 0.2879 & 0.75 & 0.0000 & 0 &  1 &  1\\\\\n",
       "\t6 & 6 & 2011-01-01 & 1 & 0 & 1 & 5 & 0 & 6 & 0 & 2 & 0.24 & 0.2576 & 0.75 & 0.0896 & 0 &  1 &  1\\\\\n",
       "\\end{tabular}\n"
      ],
      "text/markdown": [
       "\n",
       "A data.frame: 6 × 17\n",
       "\n",
       "| <!--/--> | instant &lt;int&gt; | dteday &lt;chr&gt; | season &lt;int&gt; | yr &lt;int&gt; | mnth &lt;int&gt; | hr &lt;int&gt; | holiday &lt;int&gt; | weekday &lt;int&gt; | workingday &lt;int&gt; | weathersit &lt;int&gt; | temp &lt;dbl&gt; | atemp &lt;dbl&gt; | hum &lt;dbl&gt; | windspeed &lt;dbl&gt; | casual &lt;int&gt; | registered &lt;int&gt; | cnt &lt;int&gt; |\n",
       "|---|---|---|---|---|---|---|---|---|---|---|---|---|---|---|---|---|---|\n",
       "| 1 | 1 | 2011-01-01 | 1 | 0 | 1 | 0 | 0 | 6 | 0 | 1 | 0.24 | 0.2879 | 0.81 | 0.0000 | 3 | 13 | 16 |\n",
       "| 2 | 2 | 2011-01-01 | 1 | 0 | 1 | 1 | 0 | 6 | 0 | 1 | 0.22 | 0.2727 | 0.80 | 0.0000 | 8 | 32 | 40 |\n",
       "| 3 | 3 | 2011-01-01 | 1 | 0 | 1 | 2 | 0 | 6 | 0 | 1 | 0.22 | 0.2727 | 0.80 | 0.0000 | 5 | 27 | 32 |\n",
       "| 4 | 4 | 2011-01-01 | 1 | 0 | 1 | 3 | 0 | 6 | 0 | 1 | 0.24 | 0.2879 | 0.75 | 0.0000 | 3 | 10 | 13 |\n",
       "| 5 | 5 | 2011-01-01 | 1 | 0 | 1 | 4 | 0 | 6 | 0 | 1 | 0.24 | 0.2879 | 0.75 | 0.0000 | 0 |  1 |  1 |\n",
       "| 6 | 6 | 2011-01-01 | 1 | 0 | 1 | 5 | 0 | 6 | 0 | 2 | 0.24 | 0.2576 | 0.75 | 0.0896 | 0 |  1 |  1 |\n",
       "\n"
      ],
      "text/plain": [
       "  instant dteday     season yr mnth hr holiday weekday workingday weathersit\n",
       "1 1       2011-01-01 1      0  1    0  0       6       0          1         \n",
       "2 2       2011-01-01 1      0  1    1  0       6       0          1         \n",
       "3 3       2011-01-01 1      0  1    2  0       6       0          1         \n",
       "4 4       2011-01-01 1      0  1    3  0       6       0          1         \n",
       "5 5       2011-01-01 1      0  1    4  0       6       0          1         \n",
       "6 6       2011-01-01 1      0  1    5  0       6       0          2         \n",
       "  temp atemp  hum  windspeed casual registered cnt\n",
       "1 0.24 0.2879 0.81 0.0000    3      13         16 \n",
       "2 0.22 0.2727 0.80 0.0000    8      32         40 \n",
       "3 0.22 0.2727 0.80 0.0000    5      27         32 \n",
       "4 0.24 0.2879 0.75 0.0000    3      10         13 \n",
       "5 0.24 0.2879 0.75 0.0000    0       1          1 \n",
       "6 0.24 0.2576 0.75 0.0896    0       1          1 "
      ]
     },
     "metadata": {},
     "output_type": "display_data"
    },
    {
     "data": {
      "text/html": [
       "73"
      ],
      "text/latex": [
       "73"
      ],
      "text/markdown": [
       "73"
      ],
      "text/plain": [
       "[1] 73"
      ]
     },
     "metadata": {},
     "output_type": "display_data"
    },
    {
     "data": {
      "text/html": [
       "<table class=\"dataframe\">\n",
       "<caption>A tibble: 6 × 2</caption>\n",
       "<thead>\n",
       "\t<tr><th scope=col>isworkingday</th><th scope=col>cnt</th></tr>\n",
       "\t<tr><th scope=col>&lt;fct&gt;</th><th scope=col>&lt;int&gt;</th></tr>\n",
       "</thead>\n",
       "<tbody>\n",
       "\t<tr><td>TRUE </td><td>5992</td></tr>\n",
       "\t<tr><td>TRUE </td><td>4362</td></tr>\n",
       "\t<tr><td>TRUE </td><td>5260</td></tr>\n",
       "\t<tr><td>FALSE</td><td>7132</td></tr>\n",
       "\t<tr><td>TRUE </td><td>3894</td></tr>\n",
       "\t<tr><td>TRUE </td><td>4120</td></tr>\n",
       "</tbody>\n",
       "</table>\n"
      ],
      "text/latex": [
       "A tibble: 6 × 2\n",
       "\\begin{tabular}{ll}\n",
       " isworkingday & cnt\\\\\n",
       " <fct> & <int>\\\\\n",
       "\\hline\n",
       "\t TRUE  & 5992\\\\\n",
       "\t TRUE  & 4362\\\\\n",
       "\t TRUE  & 5260\\\\\n",
       "\t FALSE & 7132\\\\\n",
       "\t TRUE  & 3894\\\\\n",
       "\t TRUE  & 4120\\\\\n",
       "\\end{tabular}\n"
      ],
      "text/markdown": [
       "\n",
       "A tibble: 6 × 2\n",
       "\n",
       "| isworkingday &lt;fct&gt; | cnt &lt;int&gt; |\n",
       "|---|---|\n",
       "| TRUE  | 5992 |\n",
       "| TRUE  | 4362 |\n",
       "| TRUE  | 5260 |\n",
       "| FALSE | 7132 |\n",
       "| TRUE  | 3894 |\n",
       "| TRUE  | 4120 |\n",
       "\n"
      ],
      "text/plain": [
       "  isworkingday cnt \n",
       "1 TRUE         5992\n",
       "2 TRUE         4362\n",
       "3 TRUE         5260\n",
       "4 FALSE        7132\n",
       "5 TRUE         3894\n",
       "6 TRUE         4120"
      ]
     },
     "metadata": {},
     "output_type": "display_data"
    }
   ],
   "source": [
    "# Section 0\n",
    "# Part 2\n",
    "# prepare data.\n",
    "\n",
    "# download zip file\n",
    "zipFileUrl <- \"https://archive.ics.uci.edu/ml/machine-learning-databases/00275/Bike-Sharing-Dataset.zip\"\n",
    "temp <- tempfile()\n",
    "download.file(zipFileUrl, temp)\n",
    "rawData <- read.csv(unz(temp, \"hour.csv\"))\n",
    "unlink(temp)\n",
    "# above code consult: https://stackoverflow.com/questions/3053833/using-r-to-download-zipped-data-file-extract-and-import-data\n",
    "head(rawData)\n",
    "\n",
    "BikeSharingData <- rawData %>%\n",
    "    group_by(dteday) %>%\n",
    "    summarize(cnt = sum(cnt), workingday=mean(workingday)) %>%\n",
    "    ungroup() %>%\n",
    "    select(workingday, cnt) %>%\n",
    "    mutate(isworkingday = (workingday == 1)) %>%\n",
    "    mutate(isworkingday = as.factor(isworkingday)) %>%\n",
    "    rep_sample_n(size = SAMPLE_SIZE) %>%\n",
    "    ungroup() %>%\n",
    "    select(isworkingday, cnt)\n",
    "\n",
    "nrow(BikeSharingData)\n",
    "head(BikeSharingData)"
   ]
  },
  {
   "cell_type": "code",
   "execution_count": 5,
   "id": "7815834d-28a5-486e-8b24-eb480477b7a2",
   "metadata": {},
   "outputs": [],
   "source": [
    "# Section 1\n",
    "# Quick summary of all data\n",
    "\n",
    "# Part 0\n",
    "# split data to (all), (holiday), (not holiday)\n",
    "\n",
    "all_BikeSharingData <- BikeSharingData %>% select(cnt)\n",
    "workingday_BikeSharingData <- filter(BikeSharingData, isworkingday==\"TRUE\") %>% select(cnt)\n",
    "notworkingday_BikeSharingData <- filter(BikeSharingData, isworkingday==\"FALSE\") %>% select(cnt)\n",
    "\n"
   ]
  },
  {
   "cell_type": "code",
   "execution_count": 6,
   "id": "ee846f59-cb98-4cef-8292-1a8f9ad098e9",
   "metadata": {},
   "outputs": [
    {
     "data": {
      "text/plain": [
       "      cnt      \n",
       " Min.   : 981  \n",
       " 1st Qu.:3544  \n",
       " Median :4549  \n",
       " Mean   :4748  \n",
       " 3rd Qu.:6211  \n",
       " Max.   :7767  "
      ]
     },
     "metadata": {},
     "output_type": "display_data"
    },
    {
     "data": {
      "text/html": [
       "73"
      ],
      "text/latex": [
       "73"
      ],
      "text/markdown": [
       "73"
      ],
      "text/plain": [
       "[1] 73"
      ]
     },
     "metadata": {},
     "output_type": "display_data"
    },
    {
     "data": {
      "text/html": [
       "4748.1095890411"
      ],
      "text/latex": [
       "4748.1095890411"
      ],
      "text/markdown": [
       "4748.1095890411"
      ],
      "text/plain": [
       "[1] 4748.11"
      ]
     },
     "metadata": {},
     "output_type": "display_data"
    },
    {
     "data": {
      "text/html": [
       "4549"
      ],
      "text/latex": [
       "4549"
      ],
      "text/markdown": [
       "4549"
      ],
      "text/plain": [
       "[1] 4549"
      ]
     },
     "metadata": {},
     "output_type": "display_data"
    },
    {
     "data": {
      "text/html": [
       "1823.49628736821"
      ],
      "text/latex": [
       "1823.49628736821"
      ],
      "text/markdown": [
       "1823.49628736821"
      ],
      "text/plain": [
       "[1] 1823.496"
      ]
     },
     "metadata": {},
     "output_type": "display_data"
    },
    {
     "data": {
      "text/html": [
       "2667"
      ],
      "text/latex": [
       "2667"
      ],
      "text/markdown": [
       "2667"
      ],
      "text/plain": [
       "[1] 2667"
      ]
     },
     "metadata": {},
     "output_type": "display_data"
    },
    {
     "data": {
      "text/plain": [
       "      cnt      \n",
       " Min.   :1530  \n",
       " 1st Qu.:3656  \n",
       " Median :4456  \n",
       " Mean   :4837  \n",
       " 3rd Qu.:6207  \n",
       " Max.   :7767  "
      ]
     },
     "metadata": {},
     "output_type": "display_data"
    },
    {
     "data": {
      "text/html": [
       "51"
      ],
      "text/latex": [
       "51"
      ],
      "text/markdown": [
       "51"
      ],
      "text/plain": [
       "[1] 51"
      ]
     },
     "metadata": {},
     "output_type": "display_data"
    },
    {
     "data": {
      "text/html": [
       "4837.29411764706"
      ],
      "text/latex": [
       "4837.29411764706"
      ],
      "text/markdown": [
       "4837.29411764706"
      ],
      "text/plain": [
       "[1] 4837.294"
      ]
     },
     "metadata": {},
     "output_type": "display_data"
    },
    {
     "data": {
      "text/html": [
       "4456"
      ],
      "text/latex": [
       "4456"
      ],
      "text/markdown": [
       "4456"
      ],
      "text/plain": [
       "[1] 4456"
      ]
     },
     "metadata": {},
     "output_type": "display_data"
    },
    {
     "data": {
      "text/html": [
       "1756.74713370044"
      ],
      "text/latex": [
       "1756.74713370044"
      ],
      "text/markdown": [
       "1756.74713370044"
      ],
      "text/plain": [
       "[1] 1756.747"
      ]
     },
     "metadata": {},
     "output_type": "display_data"
    },
    {
     "data": {
      "text/html": [
       "2550.5"
      ],
      "text/latex": [
       "2550.5"
      ],
      "text/markdown": [
       "2550.5"
      ],
      "text/plain": [
       "[1] 2550.5"
      ]
     },
     "metadata": {},
     "output_type": "display_data"
    },
    {
     "data": {
      "text/plain": [
       "      cnt      \n",
       " Min.   : 981  \n",
       " 1st Qu.:3182  \n",
       " Median :4694  \n",
       " Mean   :4541  \n",
       " 3rd Qu.:6258  \n",
       " Max.   :7498  "
      ]
     },
     "metadata": {},
     "output_type": "display_data"
    },
    {
     "data": {
      "text/html": [
       "22"
      ],
      "text/latex": [
       "22"
      ],
      "text/markdown": [
       "22"
      ],
      "text/plain": [
       "[1] 22"
      ]
     },
     "metadata": {},
     "output_type": "display_data"
    },
    {
     "data": {
      "text/html": [
       "4541.36363636364"
      ],
      "text/latex": [
       "4541.36363636364"
      ],
      "text/markdown": [
       "4541.36363636364"
      ],
      "text/plain": [
       "[1] 4541.364"
      ]
     },
     "metadata": {},
     "output_type": "display_data"
    },
    {
     "data": {
      "text/html": [
       "4694.5"
      ],
      "text/latex": [
       "4694.5"
      ],
      "text/markdown": [
       "4694.5"
      ],
      "text/plain": [
       "[1] 4694.5"
      ]
     },
     "metadata": {},
     "output_type": "display_data"
    },
    {
     "data": {
      "text/html": [
       "1997.09251867271"
      ],
      "text/latex": [
       "1997.09251867271"
      ],
      "text/markdown": [
       "1997.09251867271"
      ],
      "text/plain": [
       "[1] 1997.093"
      ]
     },
     "metadata": {},
     "output_type": "display_data"
    },
    {
     "data": {
      "text/html": [
       "3075.25"
      ],
      "text/latex": [
       "3075.25"
      ],
      "text/markdown": [
       "3075.25"
      ],
      "text/plain": [
       "[1] 3075.25"
      ]
     },
     "metadata": {},
     "output_type": "display_data"
    }
   ],
   "source": [
    "# Section 1\n",
    "# Part 1\n",
    "# numerical\n",
    "# Important !!!: the order is not in good logic, only take needed part to the Proposal\n",
    "#                contact me if need more.\n",
    "\n",
    "summary(all_BikeSharingData)\n",
    "nrow(all_BikeSharingData)\n",
    "mean(all_BikeSharingData$cnt)\n",
    "median(all_BikeSharingData$cnt)\n",
    "\n",
    "sd(all_BikeSharingData$cnt)\n",
    "IQR(all_BikeSharingData$cnt)\n",
    "\n",
    "summary(workingday_BikeSharingData)\n",
    "nrow(workingday_BikeSharingData)\n",
    "mean(workingday_BikeSharingData$cnt)\n",
    "median(workingday_BikeSharingData$cnt)\n",
    "\n",
    "sd(workingday_BikeSharingData$cnt)\n",
    "IQR(workingday_BikeSharingData$cnt)\n",
    "\n",
    "summary(notworkingday_BikeSharingData)\n",
    "nrow(notworkingday_BikeSharingData)\n",
    "mean(notworkingday_BikeSharingData$cnt)\n",
    "median(notworkingday_BikeSharingData$cnt)\n",
    "\n",
    "sd(notworkingday_BikeSharingData$cnt)\n",
    "IQR(notworkingday_BikeSharingData$cnt)"
   ]
  },
  {
   "cell_type": "code",
   "execution_count": 7,
   "id": "875dbb51-ab45-484c-905d-d16c09d32ded",
   "metadata": {},
   "outputs": [
    {
     "data": {
      "text/html": [
       "<table class=\"dataframe\">\n",
       "<caption>A tibble: 3 × 7</caption>\n",
       "<thead>\n",
       "\t<tr><th scope=col>isworkingday</th><th scope=col>min</th><th scope=col>max</th><th scope=col>mean</th><th scope=col>median</th><th scope=col>sd</th><th scope=col>IQR</th></tr>\n",
       "\t<tr><th scope=col>&lt;fct&gt;</th><th scope=col>&lt;int&gt;</th><th scope=col>&lt;int&gt;</th><th scope=col>&lt;dbl&gt;</th><th scope=col>&lt;dbl&gt;</th><th scope=col>&lt;dbl&gt;</th><th scope=col>&lt;dbl&gt;</th></tr>\n",
       "</thead>\n",
       "<tbody>\n",
       "\t<tr><td>FALSE  </td><td> 981</td><td>7498</td><td>4541.364</td><td>4694.5</td><td>1997.093</td><td>3075.25</td></tr>\n",
       "\t<tr><td>TRUE   </td><td>1530</td><td>7767</td><td>4837.294</td><td>4456.0</td><td>1756.747</td><td>2550.50</td></tr>\n",
       "\t<tr><td>Overall</td><td> 981</td><td>7767</td><td>4748.110</td><td>4549.0</td><td>1823.496</td><td>2667.00</td></tr>\n",
       "</tbody>\n",
       "</table>\n"
      ],
      "text/latex": [
       "A tibble: 3 × 7\n",
       "\\begin{tabular}{lllllll}\n",
       " isworkingday & min & max & mean & median & sd & IQR\\\\\n",
       " <fct> & <int> & <int> & <dbl> & <dbl> & <dbl> & <dbl>\\\\\n",
       "\\hline\n",
       "\t FALSE   &  981 & 7498 & 4541.364 & 4694.5 & 1997.093 & 3075.25\\\\\n",
       "\t TRUE    & 1530 & 7767 & 4837.294 & 4456.0 & 1756.747 & 2550.50\\\\\n",
       "\t Overall &  981 & 7767 & 4748.110 & 4549.0 & 1823.496 & 2667.00\\\\\n",
       "\\end{tabular}\n"
      ],
      "text/markdown": [
       "\n",
       "A tibble: 3 × 7\n",
       "\n",
       "| isworkingday &lt;fct&gt; | min &lt;int&gt; | max &lt;int&gt; | mean &lt;dbl&gt; | median &lt;dbl&gt; | sd &lt;dbl&gt; | IQR &lt;dbl&gt; |\n",
       "|---|---|---|---|---|---|---|\n",
       "| FALSE   |  981 | 7498 | 4541.364 | 4694.5 | 1997.093 | 3075.25 |\n",
       "| TRUE    | 1530 | 7767 | 4837.294 | 4456.0 | 1756.747 | 2550.50 |\n",
       "| Overall |  981 | 7767 | 4748.110 | 4549.0 | 1823.496 | 2667.00 |\n",
       "\n"
      ],
      "text/plain": [
       "  isworkingday min  max  mean     median sd       IQR    \n",
       "1 FALSE         981 7498 4541.364 4694.5 1997.093 3075.25\n",
       "2 TRUE         1530 7767 4837.294 4456.0 1756.747 2550.50\n",
       "3 Overall       981 7767 4748.110 4549.0 1823.496 2667.00"
      ]
     },
     "metadata": {},
     "output_type": "display_data"
    }
   ],
   "source": [
    "# Section 1\n",
    "# Part 1 - continue\n",
    "# numerical in a table\n",
    "rbind(BikeSharingData, BikeSharingData %>% mutate(isworkingday=\"Overall\")) %>%\n",
    "    group_by(isworkingday) %>%\n",
    "    summarize(min = min(cnt), max = max(cnt), \n",
    "              mean= mean(cnt), median=median(cnt), \n",
    "              sd= sd(cnt), IQR=IQR(cnt))"
   ]
  },
  {
   "cell_type": "code",
   "execution_count": 8,
   "id": "d788ee91-bee2-4e91-9fb7-f171bf09094b",
   "metadata": {},
   "outputs": [
    {
     "name": "stderr",
     "output_type": "stream",
     "text": [
      "Warning message:\n",
      "“Removed 4 rows containing missing values (geom_bar).”\n",
      "Warning message:\n",
      "“Removed 2 rows containing missing values (geom_bar).”\n"
     ]
    },
    {
     "data": {
      "image/png": "[encoded data removed]",
      "text/plain": [
       "plot without title"
      ]
     },
     "metadata": {
      "image/png": {
       "height": 420,
       "width": 420
      }
     },
     "output_type": "display_data"
    },
    {
     "name": "stderr",
     "output_type": "stream",
     "text": [
      "Warning message:\n",
      "“Removed 2 rows containing missing values (geom_bar).”\n"
     ]
    },
    {
     "data": {
      "image/png": "[encoded data removed]",
      "text/plain": [
       "plot without title"
      ]
     },
     "metadata": {
      "image/png": {
       "height": 420,
       "width": 420
      }
     },
     "output_type": "display_data"
    },
    {
     "data": {
      "image/png": "[encoded data removed]",
      "text/plain": [
       "plot without title"
      ]
     },
     "metadata": {
      "image/png": {
       "height": 420,
       "width": 420
      }
     },
     "output_type": "display_data"
    }
   ],
   "source": [
    "# Section 1\n",
    "# Part 2\n",
    "# visualization\n",
    "\n",
    "\n",
    "all_BikeSharingData_hist <- ggplot(BikeSharingData, \n",
    "                                   aes(x = cnt, fill = isworkingday)) +\n",
    "  geom_histogram(bins=20) +\n",
    "  labs(x=\"count of total rental bikes\", fill=\"Is Workingday?\") +\n",
    "  ggtitle(\"Distribution of count of total rental bikes\") +\n",
    "  geom_vline(xintercept = mean(BikeSharingData$cnt)) +\n",
    "  theme(legend.position=\"top\") +\n",
    "  xlim(0, 8800)\n",
    "  \n",
    "all_BikeSharingData_hist\n",
    "\n",
    "holiday_BikeSharingData_hist <- ggplot(workingday_BikeSharingData, aes(x = cnt)) +\n",
    "  geom_histogram(bins=20) +\n",
    "  labs(x=\"count of total rental bikes (workingday)\") +\n",
    "  ggtitle(\"Distribution of count of total rental bikes (workingday)\") +\n",
    "  geom_vline(xintercept = mean(workingday_BikeSharingData$cnt)) +\n",
    "   xlim(0, 8800)\n",
    "\n",
    "  \n",
    "holiday_BikeSharingData_hist\n",
    "\n",
    "notHoliday_BikeSharingData_hist <- ggplot(notworkingday_BikeSharingData, aes(x = cnt)) +\n",
    "  geom_histogram(bins=20) +\n",
    "  labs(x=\"count of total rental bikes (not workingday)\") +\n",
    "  ggtitle(\"Distribution of count of total rental bikes (not workingday)\")+\n",
    "  geom_vline(xintercept = mean(notworkingday_BikeSharingData$cnt)) +\n",
    "  xlim(0, 8800)\n",
    "\n",
    "  \n",
    "notHoliday_BikeSharingData_hist\n",
    "\n",
    "\n"
   ]
  },
  {
   "cell_type": "code",
   "execution_count": 9,
   "id": "1e141845-31d1-4b83-a0b4-12fec08b985d",
   "metadata": {},
   "outputs": [
    {
     "data": {
      "image/png": "[encoded data removed]",
      "text/plain": [
       "plot without title"
      ]
     },
     "metadata": {
      "image/png": {
       "height": 420,
       "width": 420
      }
     },
     "output_type": "display_data"
    }
   ],
   "source": [
    "# Section 1\n",
    "# Part 2 - continue\n",
    "# visualization - Boxplot\n",
    "\n",
    "ggplot(\n",
    "    rbind(BikeSharingData, BikeSharingData %>% mutate(isworkingday=\"Overall\")), \n",
    "    aes(x=isworkingday, y=cnt, fill=isworkingday)) +\n",
    "    geom_boxplot() +\n",
    "    theme(legend.position=\"none\",) +\n",
    "    labs(x=\"Is workingday?\", \n",
    "         y=\"count\",\n",
    "         fill = \"\") +\n",
    "    ggtitle(\"Boxplot for count distribution\")\n",
    "    "
   ]
  },
  {
   "cell_type": "code",
   "execution_count": 10,
   "id": "b573e573-2ac5-4ed4-92f7-45d119ece549",
   "metadata": {},
   "outputs": [],
   "source": [
    "# Section 2\n",
    "# Get confidence interval for mean (all) from bootstrapping"
   ]
  },
  {
   "cell_type": "code",
   "execution_count": 11,
   "id": "5fbfbbb4-7d90-45c2-99fc-c8eec90ac667",
   "metadata": {},
   "outputs": [],
   "source": [
    "sample_mean <- mean(all_BikeSharingData$cnt)\n",
    "\n",
    "bootstrap_dist <- all_BikeSharingData %>% \n",
    "    specify(response = cnt) %>%\n",
    "    generate(type = \"bootstrap\", reps = 1000) %>% \n",
    "    calculate(stat = \"mean\")\n"
   ]
  },
  {
   "cell_type": "code",
   "execution_count": 12,
   "id": "342d0554-0824-4abf-bc72-5e6229011f21",
   "metadata": {},
   "outputs": [
    {
     "data": {
      "image/png": "[encoded data removed]",
      "text/plain": [
       "plot without title"
      ]
     },
     "metadata": {
      "image/png": {
       "height": 420,
       "width": 420
      }
     },
     "output_type": "display_data"
    }
   ],
   "source": [
    "visualize(bootstrap_dist) + geom_vline(xintercept = sample_mean, linetype = \"dashed\")"
   ]
  },
  {
   "cell_type": "code",
   "execution_count": 13,
   "id": "9a358f46-fca7-4f17-9d4c-73480ecf3121",
   "metadata": {},
   "outputs": [
    {
     "data": {
      "text/html": [
       "<table class=\"dataframe\">\n",
       "<caption>A tibble: 1 × 2</caption>\n",
       "<thead>\n",
       "\t<tr><th scope=col>lower_ci</th><th scope=col>upper_ci</th></tr>\n",
       "\t<tr><th scope=col>&lt;dbl&gt;</th><th scope=col>&lt;dbl&gt;</th></tr>\n",
       "</thead>\n",
       "<tbody>\n",
       "\t<tr><td>4354.495</td><td>5134.448</td></tr>\n",
       "</tbody>\n",
       "</table>\n"
      ],
      "text/latex": [
       "A tibble: 1 × 2\n",
       "\\begin{tabular}{ll}\n",
       " lower\\_ci & upper\\_ci\\\\\n",
       " <dbl> & <dbl>\\\\\n",
       "\\hline\n",
       "\t 4354.495 & 5134.448\\\\\n",
       "\\end{tabular}\n"
      ],
      "text/markdown": [
       "\n",
       "A tibble: 1 × 2\n",
       "\n",
       "| lower_ci &lt;dbl&gt; | upper_ci &lt;dbl&gt; |\n",
       "|---|---|\n",
       "| 4354.495 | 5134.448 |\n",
       "\n"
      ],
      "text/plain": [
       "  lower_ci upper_ci\n",
       "1 4354.495 5134.448"
      ]
     },
     "metadata": {},
     "output_type": "display_data"
    }
   ],
   "source": [
    "ci_percentile <- bootstrap_dist %>% \n",
    "    get_confidence_interval(level = confidence_level, type = \"percentile\")\n",
    "ci_percentile"
   ]
  },
  {
   "cell_type": "code",
   "execution_count": 14,
   "id": "b8407de4-d92d-49e8-96a7-457c077fcab8",
   "metadata": {},
   "outputs": [
    {
     "data": {
      "image/png": "[encoded data removed]",
      "text/plain": [
       "plot without title"
      ]
     },
     "metadata": {
      "image/png": {
       "height": 420,
       "width": 420
      }
     },
     "output_type": "display_data"
    }
   ],
   "source": [
    "ci_plot_percentile <-  visualize(bootstrap_dist) + \n",
    "  shade_confidence_interval(endpoints = ci_percentile) +\n",
    "    geom_vline(xintercept = sample_mean, linetype = \"dashed\")\n",
    "\n",
    "ci_plot_percentile"
   ]
  },
  {
   "cell_type": "code",
   "execution_count": 15,
   "id": "e7a5565b-c274-4c4c-a9ec-eaa72616929b",
   "metadata": {},
   "outputs": [
    {
     "data": {
      "text/html": [
       "<table class=\"dataframe\">\n",
       "<caption>A tibble: 1 × 2</caption>\n",
       "<thead>\n",
       "\t<tr><th scope=col>lower_ci</th><th scope=col>upper_ci</th></tr>\n",
       "\t<tr><th scope=col>&lt;dbl&gt;</th><th scope=col>&lt;dbl&gt;</th></tr>\n",
       "</thead>\n",
       "<tbody>\n",
       "\t<tr><td>4346.563</td><td>5149.656</td></tr>\n",
       "</tbody>\n",
       "</table>\n"
      ],
      "text/latex": [
       "A tibble: 1 × 2\n",
       "\\begin{tabular}{ll}\n",
       " lower\\_ci & upper\\_ci\\\\\n",
       " <dbl> & <dbl>\\\\\n",
       "\\hline\n",
       "\t 4346.563 & 5149.656\\\\\n",
       "\\end{tabular}\n"
      ],
      "text/markdown": [
       "\n",
       "A tibble: 1 × 2\n",
       "\n",
       "| lower_ci &lt;dbl&gt; | upper_ci &lt;dbl&gt; |\n",
       "|---|---|\n",
       "| 4346.563 | 5149.656 |\n",
       "\n"
      ],
      "text/plain": [
       "  lower_ci upper_ci\n",
       "1 4346.563 5149.656"
      ]
     },
     "metadata": {},
     "output_type": "display_data"
    }
   ],
   "source": [
    "ci_se <- bootstrap_dist %>% \n",
    "    get_confidence_interval(point_estimate = sample_mean, level = confidence_level, type = \"se\")\n",
    "ci_se"
   ]
  },
  {
   "cell_type": "code",
   "execution_count": 16,
   "id": "1c598597-d49a-4569-beac-5cd18f85cbaf",
   "metadata": {},
   "outputs": [
    {
     "data": {
      "image/png": "[encoded data removed]",
      "text/plain": [
       "plot without title"
      ]
     },
     "metadata": {
      "image/png": {
       "height": 420,
       "width": 420
      }
     },
     "output_type": "display_data"
    }
   ],
   "source": [
    "ci_plot_se <-  visualize(bootstrap_dist) + \n",
    "  shade_confidence_interval(endpoints = ci_se) +\n",
    "    geom_vline(xintercept = sample_mean, linetype = \"dashed\") +\n",
    "    ggtitle(\"se confidence interval\")\n",
    "\n",
    "ci_plot_se"
   ]
  },
  {
   "cell_type": "code",
   "execution_count": 17,
   "id": "8686d070-c7c4-4179-af46-8982c452c88b",
   "metadata": {},
   "outputs": [],
   "source": [
    "# Section 3\n",
    "# Get confidence interval from CLT"
   ]
  },
  {
   "cell_type": "code",
   "execution_count": 18,
   "id": "cc774b49-c66a-4712-bdc7-e05c63b41511",
   "metadata": {},
   "outputs": [
    {
     "data": {
      "text/html": [
       "4329.80604474046"
      ],
      "text/latex": [
       "4329.80604474046"
      ],
      "text/markdown": [
       "4329.80604474046"
      ],
      "text/plain": [
       "[1] 4329.806"
      ]
     },
     "metadata": {},
     "output_type": "display_data"
    },
    {
     "data": {
      "text/html": [
       "5166.41313334173"
      ],
      "text/latex": [
       "5166.41313334173"
      ],
      "text/markdown": [
       "5166.41313334173"
      ],
      "text/plain": [
       "[1] 5166.413"
      ]
     },
     "metadata": {},
     "output_type": "display_data"
    }
   ],
   "source": [
    "sample_sd <- sd(all_BikeSharingData$cnt)\n",
    "\n",
    "se <- (sample_sd / sqrt(nrow(all_BikeSharingData)))\n",
    "\n",
    "lower <- sample_mean + qnorm((1-confidence_level)/2, 0, 1) * se\n",
    "lower\n",
    "upper <- sample_mean + qnorm((1-(1-confidence_level)/2), 0, 1) * se\n",
    "upper\n"
   ]
  },
  {
   "cell_type": "code",
   "execution_count": 19,
   "id": "ac04e82f-0455-41ca-99d2-e15a468793b0",
   "metadata": {},
   "outputs": [
    {
     "data": {
      "image/png": "[encoded data removed]",
      "text/plain": [
       "plot without title"
      ]
     },
     "metadata": {
      "image/png": {
       "height": 120,
       "width": 420
      }
     },
     "output_type": "display_data"
    }
   ],
   "source": [
    "options(repr.plot.width = default_plot_width, repr.plot.height = 2)\n",
    "ci_plot_CLT <- ggplot() +\n",
    "  geom_vline(xintercept = sample_mean) +\n",
    "  geom_vline(xintercept = lower) +\n",
    "  geom_vline(xintercept = upper) +\n",
    "  xlim(4000, 5500) +\n",
    "  ylim(0, 1) +\n",
    "  labs(x=\"conut\") +\n",
    "  annotate(\"text\", x=sample_mean, y=0.5, label=\"sample mean\") +\n",
    "  annotate(\"text\", x=lower, y=0.5, label=\"lower\") +\n",
    "  annotate(\"text\", x=upper, y=0.5, label=\"upper\") +\n",
    "  theme(axis.title.y=element_blank(),\n",
    "        axis.text.y=element_blank(),\n",
    "        axis.ticks.y=element_blank()) +\n",
    "    annotate(\"rect\", xmin = lower, xmax = upper, ymin = 0, ymax = Inf,\n",
    "             fill = \"deepskyblue\",\n",
    "             alpha = 0.3)\n",
    "\n",
    "ci_plot_CLT\n",
    "\n",
    "options(repr.plot.width = default_plot_width, repr.plot.height = default_plot_height)"
   ]
  },
  {
   "cell_type": "code",
   "execution_count": 20,
   "id": "e279b588-af05-4069-81d0-ea1042dad3be",
   "metadata": {},
   "outputs": [
    {
     "data": {
      "text/html": [
       "<table class=\"dataframe\">\n",
       "<caption>A tibble: 6 × 2</caption>\n",
       "<thead>\n",
       "\t<tr><th scope=col>x</th><th scope=col>density</th></tr>\n",
       "\t<tr><th scope=col>&lt;dbl&gt;</th><th scope=col>&lt;dbl&gt;</th></tr>\n",
       "</thead>\n",
       "<tbody>\n",
       "\t<tr><td>4329.806</td><td>0.0002738448</td></tr>\n",
       "\t<tr><td>4338.172</td><td>0.0002954862</td></tr>\n",
       "\t<tr><td>4346.538</td><td>0.0003183485</td></tr>\n",
       "\t<tr><td>4354.904</td><td>0.0003424529</td></tr>\n",
       "\t<tr><td>4363.270</td><td>0.0003678170</td></tr>\n",
       "\t<tr><td>4371.636</td><td>0.0003944530</td></tr>\n",
       "</tbody>\n",
       "</table>\n"
      ],
      "text/latex": [
       "A tibble: 6 × 2\n",
       "\\begin{tabular}{ll}\n",
       " x & density\\\\\n",
       " <dbl> & <dbl>\\\\\n",
       "\\hline\n",
       "\t 4329.806 & 0.0002738448\\\\\n",
       "\t 4338.172 & 0.0002954862\\\\\n",
       "\t 4346.538 & 0.0003183485\\\\\n",
       "\t 4354.904 & 0.0003424529\\\\\n",
       "\t 4363.270 & 0.0003678170\\\\\n",
       "\t 4371.636 & 0.0003944530\\\\\n",
       "\\end{tabular}\n"
      ],
      "text/markdown": [
       "\n",
       "A tibble: 6 × 2\n",
       "\n",
       "| x &lt;dbl&gt; | density &lt;dbl&gt; |\n",
       "|---|---|\n",
       "| 4329.806 | 0.0002738448 |\n",
       "| 4338.172 | 0.0002954862 |\n",
       "| 4346.538 | 0.0003183485 |\n",
       "| 4354.904 | 0.0003424529 |\n",
       "| 4363.270 | 0.0003678170 |\n",
       "| 4371.636 | 0.0003944530 |\n",
       "\n"
      ],
      "text/plain": [
       "  x        density     \n",
       "1 4329.806 0.0002738448\n",
       "2 4338.172 0.0002954862\n",
       "3 4346.538 0.0003183485\n",
       "4 4354.904 0.0003424529\n",
       "5 4363.270 0.0003678170\n",
       "6 4371.636 0.0003944530"
      ]
     },
     "metadata": {},
     "output_type": "display_data"
    },
    {
     "data": {
      "image/png": "[encoded data removed]",
      "text/plain": [
       "plot without title"
      ]
     },
     "metadata": {
      "image/png": {
       "height": 420,
       "width": 420
      }
     },
     "output_type": "display_data"
    }
   ],
   "source": [
    "clt_samp_dist <- \n",
    "    tibble(x = seq(lower, \n",
    "                   upper, (upper-lower)/100),\n",
    "           density = dnorm(x, sample_mean, se))\n",
    "\n",
    "create_data_normal <- function(mu, sigma){\n",
    "    return(tibble(x = seq(mu - 4 * sigma, mu + 4 * sigma, 0.01), \n",
    "                  density = dnorm(x, mu, sigma)))\n",
    "}\n",
    "\n",
    "\n",
    "head(clt_samp_dist)\n",
    "ggplot() +\n",
    "   geom_line(data = create_data_normal(mu = sample_mean, sigma = se), aes(x, density), color = \"black\", lwd = 2) \n",
    "\n",
    "# visualize(bootstrap_dist) +\n",
    "#     geom_line(data = clt_samp_dist, aes(x, density), lwd = 2, color = \"red\")\n",
    "\n",
    "\n"
   ]
  },
  {
   "cell_type": "code",
   "execution_count": 21,
   "id": "82403a2d-887a-4df7-951b-779f07946526",
   "metadata": {},
   "outputs": [],
   "source": [
    "# Section 4\n",
    "# Hypothesis test\n",
    "# assume independent, the mean of the count of total rental bikes per day is NOT dependent on workingday or not.\n",
    "# H_0, mean(is NOT workingday) -  mean(is workingday) = 0\n",
    "# H_A, mean(is NOT workingday) -  mean(is workingday) != 0\n",
    "# α = 5%"
   ]
  },
  {
   "cell_type": "code",
   "execution_count": 22,
   "id": "40c61175-6cab-4016-8b91-6dd4bb009561",
   "metadata": {},
   "outputs": [],
   "source": [
    "obs_diff_means <- BikeSharingData %>% \n",
    "  specify(formula = cnt ~ isworkingday) %>% \n",
    "  calculate(stat = \"diff in means\", order = c(\"FALSE\", \"TRUE\"))\n",
    "\n",
    "null_infer <- BikeSharingData %>% \n",
    "  specify(formula = cnt ~ isworkingday) %>% \n",
    "  hypothesize(null = \"independence\") %>% \n",
    "  generate(reps = 1000, type = \"permute\") %>% \n",
    "  calculate(stat = \"diff in means\", order = c(\"FALSE\", \"TRUE\"))"
   ]
  },
  {
   "cell_type": "code",
   "execution_count": 23,
   "id": "8b2af761-de47-42e1-aaae-cad9e5f505c6",
   "metadata": {},
   "outputs": [
    {
     "data": {
      "image/png": "[encoded data removed]",
      "text/plain": [
       "plot without title"
      ]
     },
     "metadata": {
      "image/png": {
       "height": 420,
       "width": 420
      }
     },
     "output_type": "display_data"
    }
   ],
   "source": [
    "null_plot_infer <- null_infer %>% \n",
    "  visualize() + \n",
    "  shade_p_value(obs_stat = obs_diff_means, direction = \"both\") +\n",
    "  xlab(\"x\") + \n",
    "  theme(text = element_text(size=20))\n",
    "null_plot_infer"
   ]
  },
  {
   "cell_type": "code",
   "execution_count": 24,
   "id": "a5d798f9-11e5-45da-908e-4f376376030a",
   "metadata": {},
   "outputs": [
    {
     "data": {
      "text/html": [
       "<table class=\"dataframe\">\n",
       "<caption>A tibble: 1 × 1</caption>\n",
       "<thead>\n",
       "\t<tr><th scope=col>p_value</th></tr>\n",
       "\t<tr><th scope=col>&lt;dbl&gt;</th></tr>\n",
       "</thead>\n",
       "<tbody>\n",
       "\t<tr><td>0.526</td></tr>\n",
       "</tbody>\n",
       "</table>\n"
      ],
      "text/latex": [
       "A tibble: 1 × 1\n",
       "\\begin{tabular}{l}\n",
       " p\\_value\\\\\n",
       " <dbl>\\\\\n",
       "\\hline\n",
       "\t 0.526\\\\\n",
       "\\end{tabular}\n"
      ],
      "text/markdown": [
       "\n",
       "A tibble: 1 × 1\n",
       "\n",
       "| p_value &lt;dbl&gt; |\n",
       "|---|\n",
       "| 0.526 |\n",
       "\n"
      ],
      "text/plain": [
       "  p_value\n",
       "1 0.526  "
      ]
     },
     "metadata": {},
     "output_type": "display_data"
    }
   ],
   "source": [
    "get_p_value(null_infer, obs_stat = obs_diff_means, direction = \"both\")\n"
   ]
  },
  {
   "cell_type": "code",
   "execution_count": null,
   "id": "b5f9d91e-e911-4013-96d4-95eae6a75475",
   "metadata": {},
   "outputs": [],
   "source": []
  }
 ],
 "metadata": {
  "kernelspec": {
   "display_name": "R",
   "language": "R",
   "name": "ir"
  },
  "language_info": {
   "codemirror_mode": "r",
   "file_extension": ".r",
   "mimetype": "text/x-r-source",
   "name": "R",
   "pygments_lexer": "r",
   "version": "4.1.3"
  }
 },
 "nbformat": 4,
 "nbformat_minor": 5
}
