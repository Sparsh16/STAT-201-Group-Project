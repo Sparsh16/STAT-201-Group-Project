{
 "cells": [
  {
   "cell_type": "code",
   "execution_count": 1,
   "id": "10f4ea45-7cbd-43a0-83c9-7767ea81ebad",
   "metadata": {},
   "outputs": [
    {
     "name": "stderr",
     "output_type": "stream",
     "text": [
      "── \u001b[1mAttaching packages\u001b[22m ─────────────────────────────────────── tidyverse 1.3.2 ──\n",
      "\u001b[32m✔\u001b[39m \u001b[34mggplot2\u001b[39m 3.3.6      \u001b[32m✔\u001b[39m \u001b[34mpurrr  \u001b[39m 0.3.4 \n",
      "\u001b[32m✔\u001b[39m \u001b[34mtibble \u001b[39m 3.1.8      \u001b[32m✔\u001b[39m \u001b[34mdplyr  \u001b[39m 1.0.10\n",
      "\u001b[32m✔\u001b[39m \u001b[34mtidyr  \u001b[39m 1.2.1      \u001b[32m✔\u001b[39m \u001b[34mstringr\u001b[39m 1.4.1 \n",
      "\u001b[32m✔\u001b[39m \u001b[34mreadr  \u001b[39m 2.1.2      \u001b[32m✔\u001b[39m \u001b[34mforcats\u001b[39m 0.5.2 \n",
      "── \u001b[1mConflicts\u001b[22m ────────────────────────────────────────── tidyverse_conflicts() ──\n",
      "\u001b[31m✖\u001b[39m \u001b[34mdplyr\u001b[39m::\u001b[32mfilter()\u001b[39m masks \u001b[34mstats\u001b[39m::filter()\n",
      "\u001b[31m✖\u001b[39m \u001b[34mdplyr\u001b[39m::\u001b[32mlag()\u001b[39m    masks \u001b[34mstats\u001b[39m::lag()\n"
     ]
    }
   ],
   "source": [
    "# Section 0\n",
    "# prepare environment and data.\n",
    "\n",
    "# Part 0\n",
    "# Load library\n",
    "\n",
    "library(tidyverse)\n",
    "library(repr)\n",
    "library(infer)"
   ]
  },
  {
   "cell_type": "code",
   "execution_count": null,
   "id": "7cd93f44-c24d-45c5-956e-0fdb4c40e52e",
   "metadata": {},
   "outputs": [],
   "source": [
    "# Section 0\n",
    "# Part 1\n",
    "# prepare environment."
   ]
  },
  {
   "cell_type": "code",
   "execution_count": null,
   "id": "9c3942e4-6999-4962-9f23-9f89dee0eee8",
   "metadata": {},
   "outputs": [],
   "source": [
    "# Section 0\n",
    "# Part 1\n",
    "# prepare data."
   ]
  },
  {
   "cell_type": "code",
   "execution_count": null,
   "id": "7815834d-28a5-486e-8b24-eb480477b7a2",
   "metadata": {},
   "outputs": [],
   "source": [
    "# Section 1\n",
    "# Quick summary of all data\n",
    "\n",
    "# Part 0\n",
    "# numerical"
   ]
  },
  {
   "cell_type": "code",
   "execution_count": null,
   "id": "d788ee91-bee2-4e91-9fb7-f171bf09094b",
   "metadata": {},
   "outputs": [],
   "source": [
    "# Section 1\n",
    "# Part 1\n",
    "# visualization"
   ]
  },
  {
   "cell_type": "code",
   "execution_count": null,
   "id": "cd90ccc3-207b-4765-9430-b8e76dc8544d",
   "metadata": {},
   "outputs": [],
   "source": [
    "# Section 2\n",
    "# Quick summary of a sample\n",
    "\n",
    "# Part 0\n",
    "# numerical"
   ]
  },
  {
   "cell_type": "code",
   "execution_count": null,
   "id": "e4b9d174-a08b-4944-a654-099150985fdc",
   "metadata": {},
   "outputs": [],
   "source": [
    "# Section 2\n",
    "# Part 0\n",
    "# visualization"
   ]
  },
  {
   "cell_type": "code",
   "execution_count": null,
   "id": "b573e573-2ac5-4ed4-92f7-45d119ece549",
   "metadata": {},
   "outputs": [],
   "source": [
    "# Section 3\n",
    "# Get confidence interval from bootstrapping"
   ]
  },
  {
   "cell_type": "code",
   "execution_count": null,
   "id": "5fbfbbb4-7d90-45c2-99fc-c8eec90ac667",
   "metadata": {},
   "outputs": [],
   "source": []
  },
  {
   "cell_type": "code",
   "execution_count": null,
   "id": "8686d070-c7c4-4179-af46-8982c452c88b",
   "metadata": {},
   "outputs": [],
   "source": [
    "# Section 4\n",
    "# Get confidence interval from CLT"
   ]
  },
  {
   "cell_type": "code",
   "execution_count": null,
   "id": "cc774b49-c66a-4712-bdc7-e05c63b41511",
   "metadata": {},
   "outputs": [],
   "source": []
  },
  {
   "cell_type": "code",
   "execution_count": null,
   "id": "82403a2d-887a-4df7-951b-779f07946526",
   "metadata": {},
   "outputs": [],
   "source": [
    "# Section 4\n",
    "# Hypothesis test"
   ]
  },
  {
   "cell_type": "code",
   "execution_count": null,
   "id": "40c61175-6cab-4016-8b91-6dd4bb009561",
   "metadata": {},
   "outputs": [],
   "source": []
  },
  {
   "cell_type": "code",
   "execution_count": null,
   "id": "8b2af761-de47-42e1-aaae-cad9e5f505c6",
   "metadata": {},
   "outputs": [],
   "source": []
  }
 ],
 "metadata": {
  "kernelspec": {
   "display_name": "R",
   "language": "R",
   "name": "ir"
  },
  "language_info": {
   "codemirror_mode": "r",
   "file_extension": ".r",
   "mimetype": "text/x-r-source",
   "name": "R",
   "pygments_lexer": "r",
   "version": "4.1.3"
  }
 },
 "nbformat": 4,
 "nbformat_minor": 5
}
