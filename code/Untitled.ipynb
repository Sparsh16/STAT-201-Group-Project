{
 "cells": [
  {
   "cell_type": "code",
   "execution_count": 7,
   "id": "49887010-6432-4674-befe-565c97a884ae",
   "metadata": {},
   "outputs": [
    {
     "data": {
      "text/html": [
       "'Figure: 1.0. m1'"
      ],
      "text/latex": [
       "'Figure: 1.0. m1'"
      ],
      "text/markdown": [
       "'Figure: 1.0. m1'"
      ],
      "text/plain": [
       "[1] \"Figure: 1.0. m1\""
      ]
     },
     "metadata": {},
     "output_type": "display_data"
    },
    {
     "data": {
      "text/html": [
       "'Figure: 2.0. '"
      ],
      "text/latex": [
       "'Figure: 2.0. '"
      ],
      "text/markdown": [
       "'Figure: 2.0. '"
      ],
      "text/plain": [
       "[1] \"Figure: 2.0. \""
      ]
     },
     "metadata": {},
     "output_type": "display_data"
    },
    {
     "data": {
      "text/html": [
       "'Figure: 3.0. '"
      ],
      "text/latex": [
       "'Figure: 3.0. '"
      ],
      "text/markdown": [
       "'Figure: 3.0. '"
      ],
      "text/plain": [
       "[1] \"Figure: 3.0. \""
      ]
     },
     "metadata": {},
     "output_type": "display_data"
    },
    {
     "data": {
      "text/html": [
       "'Figure: 3.1. m1'"
      ],
      "text/latex": [
       "'Figure: 3.1. m1'"
      ],
      "text/markdown": [
       "'Figure: 3.1. m1'"
      ],
      "text/plain": [
       "[1] \"Figure: 3.1. m1\""
      ]
     },
     "metadata": {},
     "output_type": "display_data"
    },
    {
     "data": {
      "text/html": [
       "'Figure: 4.0. '"
      ],
      "text/latex": [
       "'Figure: 4.0. '"
      ],
      "text/markdown": [
       "'Figure: 4.0. '"
      ],
      "text/plain": [
       "[1] \"Figure: 4.0. \""
      ]
     },
     "metadata": {},
     "output_type": "display_data"
    },
    {
     "data": {
      "text/html": [
       "'Figure: 4.1. '"
      ],
      "text/latex": [
       "'Figure: 4.1. '"
      ],
      "text/markdown": [
       "'Figure: 4.1. '"
      ],
      "text/plain": [
       "[1] \"Figure: 4.1. \""
      ]
     },
     "metadata": {},
     "output_type": "display_data"
    },
    {
     "data": {
      "text/html": [
       "'Table: 1.0. '"
      ],
      "text/latex": [
       "'Table: 1.0. '"
      ],
      "text/markdown": [
       "'Table: 1.0. '"
      ],
      "text/plain": [
       "[1] \"Table: 1.0. \""
      ]
     },
     "metadata": {},
     "output_type": "display_data"
    },
    {
     "data": {
      "text/html": [
       "'Table: 1.1. '"
      ],
      "text/latex": [
       "'Table: 1.1. '"
      ],
      "text/markdown": [
       "'Table: 1.1. '"
      ],
      "text/plain": [
       "[1] \"Table: 1.1. \""
      ]
     },
     "metadata": {},
     "output_type": "display_data"
    },
    {
     "data": {
      "text/html": [
       "'Table: 2.0. '"
      ],
      "text/latex": [
       "'Table: 2.0. '"
      ],
      "text/markdown": [
       "'Table: 2.0. '"
      ],
      "text/plain": [
       "[1] \"Table: 2.0. \""
      ]
     },
     "metadata": {},
     "output_type": "display_data"
    },
    {
     "data": {
      "text/html": [
       "'Figure: 5.0. '"
      ],
      "text/latex": [
       "'Figure: 5.0. '"
      ],
      "text/markdown": [
       "'Figure: 5.0. '"
      ],
      "text/plain": [
       "[1] \"Figure: 5.0. \""
      ]
     },
     "metadata": {},
     "output_type": "display_data"
    },
    {
     "data": {
      "text/html": [
       "'Figure: 5.1. m1'"
      ],
      "text/latex": [
       "'Figure: 5.1. m1'"
      ],
      "text/markdown": [
       "'Figure: 5.1. m1'"
      ],
      "text/plain": [
       "[1] \"Figure: 5.1. m1\""
      ]
     },
     "metadata": {},
     "output_type": "display_data"
    },
    {
     "data": {
      "text/html": [
       "'Figure: 5.2. '"
      ],
      "text/latex": [
       "'Figure: 5.2. '"
      ],
      "text/markdown": [
       "'Figure: 5.2. '"
      ],
      "text/plain": [
       "[1] \"Figure: 5.2. \""
      ]
     },
     "metadata": {},
     "output_type": "display_data"
    },
    {
     "data": {
      "text/html": [
       "'Figure: 5.3. '"
      ],
      "text/latex": [
       "'Figure: 5.3. '"
      ],
      "text/markdown": [
       "'Figure: 5.3. '"
      ],
      "text/plain": [
       "[1] \"Figure: 5.3. \""
      ]
     },
     "metadata": {},
     "output_type": "display_data"
    },
    {
     "data": {
      "text/html": [
       "'Figure: 5.4. m1'"
      ],
      "text/latex": [
       "'Figure: 5.4. m1'"
      ],
      "text/markdown": [
       "'Figure: 5.4. m1'"
      ],
      "text/plain": [
       "[1] \"Figure: 5.4. m1\""
      ]
     },
     "metadata": {},
     "output_type": "display_data"
    },
    {
     "data": {
      "text/html": [
       "'Figure: 5.5. '"
      ],
      "text/latex": [
       "'Figure: 5.5. '"
      ],
      "text/markdown": [
       "'Figure: 5.5. '"
      ],
      "text/plain": [
       "[1] \"Figure: 5.5. \""
      ]
     },
     "metadata": {},
     "output_type": "display_data"
    }
   ],
   "source": [
    "# figure/table number\n",
    "figure_table_number <- c(0, 0, 0, 0) # figureMajor, figureMinor, tableMajor, tableMinor\n",
    "\n",
    "figure_number.nextMajor <- function(m=\"\") {\n",
    "    figure_table_number[1] <<- figure_table_number[1] + 1\n",
    "    figure_table_number[2] <<- 0\n",
    "    return (paste(\"Figure: \", figure_table_number[1], \".\", figure_table_number[2], \". \", m, sep = \"\"))\n",
    "}\n",
    "\n",
    "figure_number.nextMinor <- function(m=\"\") {\n",
    "    figure_table_number[2] <<- figure_table_number[2] + 1\n",
    "    return (paste(\"Figure: \", figure_table_number[1], \".\", figure_table_number[2], \". \", m, sep = \"\"))\n",
    "}\n",
    "\n",
    "\n",
    "table_number.nextMajor <- function(m=\"\") {\n",
    "    figure_table_number[3] <<- figure_table_number[3] + 1\n",
    "    figure_table_number[4] <<- 0\n",
    "    return (paste(\"Table: \", figure_table_number[3], \".\", figure_table_number[4], \". \", m, sep = \"\"))\n",
    "}\n",
    "\n",
    "table_number.nextMinor <- function(m=\"\") {\n",
    "    figure_table_number[4] <<- figure_table_number[4] + 1\n",
    "    return (paste(\"Table: \", figure_table_number[3], \".\", figure_table_number[4], \". \", m, sep = \"\"))\n",
    "}\n",
    "\n",
    "\n",
    "\n",
    "figure_number.nextMajor(\"m1\")\n",
    "figure_number.nextMajor()\n",
    "figure_number.nextMajor()\n",
    "figure_number.nextMinor(\"m1\")\n",
    "figure_number.nextMajor()\n",
    "figure_number.nextMinor()\n",
    "\n",
    "table_number.nextMajor()\n",
    "table_number.nextMinor()\n",
    "table_number.nextMajor()\n",
    "\n",
    "figure_number.nextMajor()\n",
    "figure_number.nextMinor(\"m1\")\n",
    "figure_number.nextMinor()\n",
    "figure_number.nextMinor()\n",
    "figure_number.nextMinor(\"m1\")\n",
    "figure_number.nextMinor()"
   ]
  },
  {
   "cell_type": "code",
   "execution_count": null,
   "id": "f946ce29-17d7-4432-b1c0-614128296764",
   "metadata": {},
   "outputs": [],
   "source": []
  }
 ],
 "metadata": {
  "kernelspec": {
   "display_name": "R",
   "language": "R",
   "name": "ir"
  },
  "language_info": {
   "codemirror_mode": "r",
   "file_extension": ".r",
   "mimetype": "text/x-r-source",
   "name": "R",
   "pygments_lexer": "r",
   "version": "4.1.3"
  }
 },
 "nbformat": 4,
 "nbformat_minor": 5
}
